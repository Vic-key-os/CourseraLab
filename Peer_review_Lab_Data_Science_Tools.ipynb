{
 "cells": [
  {
   "cell_type": "markdown",
   "id": "c05dcae0",
   "metadata": {},
   "source": [
    "# My Jupyter Notebook on IBM Watson Studio"
   ]
  },
  {
   "cell_type": "markdown",
   "id": "0bbfc2ca",
   "metadata": {},
   "source": [
    "**Volodymyr**\n",
    "\n",
    "My current ocupation is the chief operating officer"
   ]
  },
  {
   "cell_type": "markdown",
   "id": "477498fa",
   "metadata": {},
   "source": [
    "*I am interested in data science (or businesss intelligence) because it is one of the comtetitive   advantage for any business now especially for the fintech companies*"
   ]
  },
  {
   "cell_type": "markdown",
   "id": "1c596760",
   "metadata": {},
   "source": [
    "### It’s an output of multiplication two by two"
   ]
  },
  {
   "cell_type": "code",
   "execution_count": 1,
   "id": "4a1c166a",
   "metadata": {},
   "outputs": [
    {
     "name": "stdout",
     "output_type": "stream",
     "text": [
      "4\n"
     ]
    }
   ],
   "source": [
    "print(2 * 2)"
   ]
  },
  {
   "cell_type": "markdown",
   "id": "049c9183",
   "metadata": {},
   "source": [
    "Let's start with...\n",
    "***\n",
    "then we have an ordered list:\n",
    "1. item one\n",
    "1. item two\n",
    "1. item three\n",
    "... and bulleted list:\n",
    "* item one \n",
    "* item two\n",
    "* item three\n",
    "\n",
    "Table | Column 1 | Column 2\n",
    "--- | --- | ---\n",
    "Row 1 | 11 | 12\n",
    "Row 2 | 21 | 22 \n",
    "\n",
    "> And finally\n",
    "~~strikethrough~~"
   ]
  },
  {
   "cell_type": "code",
   "execution_count": null,
   "id": "ca297aca",
   "metadata": {},
   "outputs": [],
   "source": []
  }
 ],
 "metadata": {
  "kernelspec": {
   "display_name": "Python 3 (ipykernel)",
   "language": "python",
   "name": "python3"
  },
  "language_info": {
   "codemirror_mode": {
    "name": "ipython",
    "version": 3
   },
   "file_extension": ".py",
   "mimetype": "text/x-python",
   "name": "python",
   "nbconvert_exporter": "python",
   "pygments_lexer": "ipython3",
   "version": "3.9.7"
  }
 },
 "nbformat": 4,
 "nbformat_minor": 5
}
